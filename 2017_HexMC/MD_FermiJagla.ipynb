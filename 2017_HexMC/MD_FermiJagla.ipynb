{
 "cells": [
  {
   "cell_type": "code",
   "execution_count": 1,
   "metadata": {},
   "outputs": [
    {
     "name": "stderr",
     "output_type": "stream",
     "text": [
      "Usage: ipykernel_launcher.py [options]\n",
      "\n",
      "ipykernel_launcher.py: error: no such option: -f\n"
     ]
    },
    {
     "ename": "SystemExit",
     "evalue": "2",
     "output_type": "error",
     "traceback": [
      "An exception has occurred, use %tb to see the full traceback.\n",
      "\u001b[0;31mSystemExit\u001b[0m\u001b[0;31m:\u001b[0m 2\n"
     ]
    },
    {
     "name": "stderr",
     "output_type": "stream",
     "text": [
      "/Users/user/anaconda/lib/python2.7/site-packages/IPython/core/interactiveshell.py:2889: UserWarning: To exit: use 'exit', 'quit', or Ctrl-D.\n",
      "  warn(\"To exit: use 'exit', 'quit', or Ctrl-D.\", stacklevel=1)\n"
     ]
    }
   ],
   "source": [
    "import numpy as np\n",
    "import hoomd, hoomd.md\n",
    "\n",
    "\n",
    "def lj(r, rmin, rmax, epsilon, sigma):\n",
    "    V = 4 * epsilon * ( (sigma / r)**12 - (sigma / r)**6);\n",
    "    F = 4 * epsilon / r * ( 12 * (sigma / r)**12 - 6 * (sigma / r)**6);\n",
    "    return (V, F)\n",
    "\n",
    "def jf(r, rmin, rmax, epsilon, a, A0, A1, A2, B0, B1, B2):\n",
    "    V = epsilon * ( (a / r)**12 + A0/(1+np.exp(A1/A0*r/(a-A2))) - B0/(1+np.exp(B1/B0*r/(a-B2))))\n",
    "    F = epsilon * ( -12*(a / r)**12/r - A1*np.exp(A1/A0*r/(a-A2))/(a-A2)/(1+np.exp(A1/A0*r/(a-A2)))**2 +\n",
    "                   B1*np.exp(B1/B0*r/(a-B2))/(a-B2)/(1+np.exp(B1/B0*r/(a-B2)))**2)\n",
    "    return (V, F)\n",
    "\n",
    "\n",
    "\n",
    "hoomd.context.initialize()\n",
    "unitcell=hoomd.lattice.sc(a=2.0, mass=1.0, type_name='A')\n",
    "hoomd.init.create_lattice(unitcell=unitcell, n=10)\n",
    "nl = hoomd.md.nlist.cell()"
   ]
  },
  {
   "cell_type": "code",
   "execution_count": null,
   "metadata": {
    "collapsed": true
   },
   "outputs": [],
   "source": [
    "table = hoomd.md.pair.table(width=1000, nlist=nl)\n",
    "table.pair_coeff.set('A', 'A', func=lj, rmin=0.8, rmax=3.0, \n",
    "                     coeff=dict(epsilon=1.5, a=1.0, A0=1.0, A1=1.0, A2=0.5, B0=1.0, B1=1.0, B2=0.5))\n",
    "\n",
    "all = hoomd.group.all();\n",
    "d = hoomd.dump.gsd(\"mdFJ.gsd\", period=1000, group=hoomd.group.all(), overwrite=True);\n",
    "hoomd.md.integrate.mode_standard(dt=0.005)\n",
    "hoomd.md.integrate.langevin(group=all, kT=1.2, seed=4)"
   ]
  },
  {
   "cell_type": "code",
   "execution_count": null,
   "metadata": {
    "collapsed": true
   },
   "outputs": [],
   "source": [
    "hoomd.run(10e3)"
   ]
  },
  {
   "cell_type": "code",
   "execution_count": null,
   "metadata": {
    "collapsed": true
   },
   "outputs": [],
   "source": [
    "tr = ex_render.get_trajectory(\"trajectory.gsd\")\n",
    "len(tr)"
   ]
  }
 ],
 "metadata": {
  "kernelspec": {
   "display_name": "Python 2",
   "language": "python",
   "name": "python2"
  },
  "language_info": {
   "codemirror_mode": {
    "name": "ipython",
    "version": 2
   },
   "file_extension": ".py",
   "mimetype": "text/x-python",
   "name": "python",
   "nbconvert_exporter": "python",
   "pygments_lexer": "ipython2",
   "version": "2.7.13"
  }
 },
 "nbformat": 4,
 "nbformat_minor": 2
}
