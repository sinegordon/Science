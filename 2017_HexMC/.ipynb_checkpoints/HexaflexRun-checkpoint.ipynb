{
 "cells": [
  {
   "cell_type": "markdown",
   "metadata": {},
   "source": [
    "# SYSTEM RUN"
   ]
  },
  {
   "cell_type": "code",
   "execution_count": 84,
   "metadata": {},
   "outputs": [],
   "source": [
    "import turtle\n",
    "import numpy\n",
    "\n",
    "\n",
    "rad_mul = 0.9 #float(sys.argv[1])\n",
    "koch_flake = \"FRFRF\"\n",
    "iterations = 2\n",
    "\n",
    "for i in range(iterations):\n",
    "    koch_flake = koch_flake.replace(\"F\",\"FLFRFLF\")\n",
    "\n",
    "turtle.down()\n",
    "coordsK = []\n",
    "for move in koch_flake:\n",
    "    if move == \"F\":\n",
    "        turtle.forward(rad_mul*1.0 / (3 ** (iterations - 1)))\n",
    "        coordsK.append(turtle.position())\n",
    "    elif move == \"L\":\n",
    "        turtle.left(60)\n",
    "    elif move == \"R\":\n",
    "        turtle.right(120)\n",
    "\n",
    "coordsK = numpy.array(coordsK)\n",
    "maxx = numpy.max(coordsK[:, 0])\n",
    "minx = numpy.min(coordsK[:, 0])\n",
    "maxy = numpy.max(coordsK[:, 1])\n",
    "miny = numpy.min(coordsK[:, 1])\n",
    "dx = (maxx + minx)/2.0\n",
    "dy = (maxy + miny)/2.0\n",
    "coordsK[:, 0] -= dx \n",
    "coordsK[:, 1] -= dy\n",
    "coordsK = np.flip(coordsK, axis=0)"
   ]
  },
  {
   "cell_type": "code",
   "execution_count": 86,
   "metadata": {},
   "outputs": [
    {
     "name": "stdout",
     "output_type": "stream",
     "text": [
      "0.81\n",
      "notice(2): Group \"all\" created containing 200 particles\n"
     ]
    }
   ],
   "source": [
    "import hoomd\n",
    "import hoomd.hpmc\n",
    "import ex_render\n",
    "import math\n",
    "import sys\n",
    "import random\n",
    "import numpy as np\n",
    "from shapely.geometry import Polygon\n",
    "hoomd.context.initialize(\"--mode=cpu\")\n",
    "\n",
    "rad_hex = 2.0*np.cos(np.pi/6)\n",
    "vertex = []\n",
    "types = []\n",
    "diameters=[]\n",
    "coords = []\n",
    "\n",
    "#Hexagon1\n",
    "p_hex1 = [0, 0.5*rad_hex, 0]\n",
    "coords.append(p_hex1)\n",
    "types.append('A')\n",
    "diameters.append(2*rad_hex)\n",
    "#Hexagon2\n",
    "p_hex2 = [rad_hex*np.sqrt(3)/2, -rad_hex ,0]\n",
    "coords.append(p_hex2)\n",
    "types.append('A')\n",
    "diameters.append(2*rad_hex)\n",
    "\n",
    "print rad_mul**2\n",
    "\n",
    "uc = hoomd.lattice.unitcell(N=2,\n",
    "                            a1=[rad_hex*np.sqrt(3), 0, 0],\n",
    "                            a2=[0, 3*rad_hex, 0],\n",
    "                            a3=[0,   0,   1],\n",
    "                            dimensions=2,\n",
    "                            position=coords,\n",
    "                            diameter=diameters,\n",
    "                            type_name=types);\n",
    "\n",
    "system = hoomd.init.create_lattice(unitcell=uc, n=[10, 10])\n",
    "mc = hoomd.hpmc.integrate.simple_polygon(d=0.01, a=0.01, seed=42)\n",
    "square_verts = coordsK\n",
    "mc.shape_param.set('A', vertices=square_verts)"
   ]
  },
  {
   "cell_type": "code",
   "execution_count": 88,
   "metadata": {
    "collapsed": true
   },
   "outputs": [],
   "source": [
    "dump_name = \"koch_\"+str(rad_mul**2)+\".gsd\"\n",
    "d = hoomd.dump.gsd(dump_name, period=10, group=hoomd.group.all(), overwrite=True);"
   ]
  },
  {
   "cell_type": "code",
   "execution_count": 89,
   "metadata": {},
   "outputs": [
    {
     "name": "stdout",
     "output_type": "stream",
     "text": [
      "** starting run **\n"
     ]
    },
    {
     "name": "stderr",
     "output_type": "stream",
     "text": [
      "*Warning*: Box size is t"
     ]
    },
    {
     "name": "stdout",
     "output_type": "stream",
     "text": [
      "Time 00:00:19 | Step 53 / 1001 | TPS 5.27173 | ETA 00:02:59\n",
      "Time 00:00:29 | Step 112 / 1001 | TPS 5.80377 | ETA 00:02:33\n",
      "Time 00:00:39 | Step 176 / 1001 | TPS 6.33965 | ETA 00:02:10\n",
      "Time 00:00:49 | Step 242 / 1001 | TPS 6.57509 | ETA 00:01:55\n",
      "Time 00:00:59 | Step 310 / 1001 | TPS 6.78376 | ETA 00:01:41\n",
      "Time 00:01:09 | Step 379 / 1001 | TPS 6.84541 | ETA 00:01:30\n",
      "Time 00:01:19 | Step 448 / 1001 | TPS 6.88523 | ETA 00:01:20\n",
      "Time 00:01:29 | Step 517 / 1001 | TPS 6.81387 | ETA 00:01:11\n",
      "Time 00:01:39 | Step 586 / 1001 | TPS 6.81341 | ETA 00:01:00\n",
      "Time 00:01:49 | Step 658 / 1001 | TPS 7.18554 | ETA 00:00:47\n",
      "Time 00:01:59 | Step 727 / 1001 | TPS 6.82191 | ETA 00:00:40\n",
      "Time 00:02:10 | Step 798 / 1001 | TPS 7.08076 | ETA 00:00:28\n",
      "Time 00:02:20 | Step 867 / 1001 | TPS 6.87494 | ETA 00:00:19\n",
      "Time 00:02:30 | Step 938 / 1001 | TPS 7.01624 | ETA 00:00:08\n",
      "Time 00:02:39 | Step 1001 / 1001 | TPS 6.42066 | ETA 00:00:00\n",
      "Average TPS: 6.63488\n",
      "---------\n",
      "notice(2): -- HPMC stats:\n",
      "notice(2): Average translate acceptance: 0.978245\n",
      "notice(2): Average rotate acceptance:    0.981225\n",
      "notice(2): Trial moves per second:        5307.31\n",
      "notice(2): Overlap checks per second:     160140\n",
      "notice(2): Overlap checks per trial move: 30.1735\n",
      "notice(2): Number of overlap errors:      0\n",
      "** run complete **\n"
     ]
    },
    {
     "name": "stderr",
     "output_type": "stream",
     "text": [
      "oo small or move size is too large for the minimum image convention.\n",
      "Testing 11 images per trial move, performance may slow.\n",
      "This message will not be repeated.\n"
     ]
    }
   ],
   "source": [
    "hoomd.run(1001)"
   ]
  }
 ],
 "metadata": {
  "kernelspec": {
   "display_name": "Python 2",
   "language": "python",
   "name": "python2"
  },
  "language_info": {
   "codemirror_mode": {
    "name": "ipython",
    "version": 2
   },
   "file_extension": ".py",
   "mimetype": "text/x-python",
   "name": "python",
   "nbconvert_exporter": "python",
   "pygments_lexer": "ipython2",
   "version": "2.7.13"
  }
 },
 "nbformat": 4,
 "nbformat_minor": 2
}
