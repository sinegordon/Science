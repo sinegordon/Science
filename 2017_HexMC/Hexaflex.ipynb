{
 "cells": [
  {
   "cell_type": "markdown",
   "metadata": {},
   "source": [
    "# SYSTEM RUN"
   ]
  },
  {
   "cell_type": "code",
   "execution_count": 10,
   "metadata": {},
   "outputs": [
    {
     "name": "stdout",
     "output_type": "stream",
     "text": [
      "Populating the interactive namespace from numpy and matplotlib\n"
     ]
    }
   ],
   "source": [
    "%pylab inline\n",
    "import matplotlib.lines as lines\n",
    "from shapely.geometry import Polygon"
   ]
  },
  {
   "cell_type": "code",
   "execution_count": 11,
   "metadata": {},
   "outputs": [],
   "source": [
    "hex_rad = 1\n",
    "rad_mul = 0.8\n",
    "sin30 = rad_mul*hex_rad*sin(pi/6)\n",
    "sin60 = rad_mul*hex_rad*sin(pi/3)\n",
    "hex_line = [[0, rad_mul*hex_rad], [-sin60, sin30], [-sin60, -sin30], [0, -rad_mul*hex_rad], [sin60, -sin30], [sin60, sin30], \n",
    "            [0, rad_mul*hex_rad]]\n",
    "def hex_flake_step(old_line):\n",
    "    new_line = []\n",
    "    for i in range(len(old_line)-1):\n",
    "        p1 = old_line[i]\n",
    "        p2 = old_line[i+1]\n",
    "        dpx = (p2[0] - p1[0])/3.0\n",
    "        dpy = (p2[1] - p1[1])/3.0\n",
    "        new_line.append(p1)\n",
    "        p3 = [p1[0]+dpx, p1[1]+dpy]\n",
    "        p4 = [p1[0]+2*dpx, p1[1]+2*dpy]\n",
    "        alpha = pi/3.0\n",
    "        p = [(p2[0]-p1[0])/3.0, (p2[1]-p1[1])/3.0]\n",
    "        p5 = [p[0]*cos(alpha) - p[1]*sin(alpha), p[1]*cos(alpha) + p[0]*sin(alpha)]\n",
    "        p5 = [p5[0] + p3[0], p5[1] + p3[1]]\n",
    "        new_line.append(p3)\n",
    "        new_line.append(p5)\n",
    "        new_line.append(p4)\n",
    "    new_line.append(old_line[-1])\n",
    "    new_line = np.array(new_line)\n",
    "    return new_line\n",
    "\n",
    "for i in range(0):\n",
    "    hex_line = hex_flake_step(hex_line)\n",
    "         "
   ]
  },
  {
   "cell_type": "code",
   "execution_count": 9,
   "metadata": {},
   "outputs": [
    {
     "data": {
      "image/png": "[encoded data removed]",
      "text/plain": [
       "<matplotlib.figure.Figure at 0x107fa8650>"
      ]
     },
     "metadata": {},
     "output_type": "display_data"
    }
   ],
   "source": [
    "fig, ax = plt.subplots()\n",
    "\n",
    "fig.set_size_inches(6.5,8)          # Make graph square\n",
    "#scatter([-0.1],[-0.1],s=0.01)     # Move graph window a little left and down\n",
    "\n",
    "(line_hex_xs, line_hex_ys) = zip(*hex_line)\n",
    "\n",
    "ax.add_line(Line2D(line_hex_xs, line_hex_ys, linewidth=2, color='blue'))\n",
    "plot()\n",
    "show()\n"
   ]
  },
  {
   "cell_type": "code",
   "execution_count": 30,
   "metadata": {},
   "outputs": [
    {
     "data": {
      "text/plain": [
       "97"
      ]
     },
     "execution_count": 30,
     "metadata": {},
     "output_type": "execute_result"
    }
   ],
   "source": [
    "len(hex_line)"
   ]
  },
  {
   "cell_type": "code",
   "execution_count": 31,
   "metadata": {},
   "outputs": [],
   "source": [
    "import hoomd\n",
    "import hoomd.hpmc\n",
    "import ex_render"
   ]
  },
  {
   "cell_type": "code",
   "execution_count": 32,
   "metadata": {},
   "outputs": [
    {
     "name": "stdout",
     "output_type": "stream",
     "text": [
      "notice(2): Group \"all\" created containing 200 particles\n"
     ]
    },
    {
     "ename": "RuntimeError",
     "evalue": "Too many polygon vertices",
     "output_type": "error",
     "traceback": [
      "\u001b[0;31m---------------------------------------------------------------------------\u001b[0m",
      "\u001b[0;31mRuntimeError\u001b[0m                              Traceback (most recent call last)",
      "\u001b[0;32m<ipython-input-32-71fb7d19cfc9>\u001b[0m in \u001b[0;36m<module>\u001b[0;34m()\u001b[0m\n\u001b[1;32m     35\u001b[0m \u001b[0mmc\u001b[0m \u001b[0;34m=\u001b[0m \u001b[0mhoomd\u001b[0m\u001b[0;34m.\u001b[0m\u001b[0mhpmc\u001b[0m\u001b[0;34m.\u001b[0m\u001b[0mintegrate\u001b[0m\u001b[0;34m.\u001b[0m\u001b[0msimple_polygon\u001b[0m\u001b[0;34m(\u001b[0m\u001b[0md\u001b[0m\u001b[0;34m=\u001b[0m\u001b[0;36m0.01\u001b[0m\u001b[0;34m,\u001b[0m \u001b[0ma\u001b[0m\u001b[0;34m=\u001b[0m\u001b[0;36m0.01\u001b[0m\u001b[0;34m,\u001b[0m \u001b[0mseed\u001b[0m\u001b[0;34m=\u001b[0m\u001b[0;36m42\u001b[0m\u001b[0;34m)\u001b[0m\u001b[0;34m\u001b[0m\u001b[0m\n\u001b[1;32m     36\u001b[0m \u001b[0msquare_verts\u001b[0m \u001b[0;34m=\u001b[0m \u001b[0mcoordsK\u001b[0m\u001b[0;34m\u001b[0m\u001b[0m\n\u001b[0;32m---> 37\u001b[0;31m \u001b[0mmc\u001b[0m\u001b[0;34m.\u001b[0m\u001b[0mshape_param\u001b[0m\u001b[0;34m.\u001b[0m\u001b[0mset\u001b[0m\u001b[0;34m(\u001b[0m\u001b[0;34m'A'\u001b[0m\u001b[0;34m,\u001b[0m \u001b[0mvertices\u001b[0m\u001b[0;34m=\u001b[0m\u001b[0msquare_verts\u001b[0m\u001b[0;34m)\u001b[0m\u001b[0;34m\u001b[0m\u001b[0m\n\u001b[0m",
      "\u001b[0;32m/Users/user/anaconda2/lib/python2.7/site-packages/hoomd/hpmc/data.pyc\u001b[0m in \u001b[0;36mset\u001b[0;34m(self, types, **params)\u001b[0m\n",
      "\u001b[0;32m/Users/user/anaconda2/lib/python2.7/site-packages/hoomd/hpmc/data.pyc\u001b[0m in \u001b[0;36mset\u001b[0;34m(self, **params)\u001b[0m\n",
      "\u001b[0;32m/Users/user/anaconda2/lib/python2.7/site-packages/hoomd/hpmc/data.pyc\u001b[0m in \u001b[0;36mmake_param\u001b[0;34m(self, vertices, ignore_statistics)\u001b[0m\n",
      "\u001b[0;31mRuntimeError\u001b[0m: Too many polygon vertices"
     ]
    }
   ],
   "source": [
    "import math\n",
    "import sys\n",
    "import random\n",
    "import numpy as np\n",
    "hoomd.context.initialize(\"--mode=cpu\")\n",
    "\n",
    "rad_hex = 2.0*np.cos(np.pi/6)\n",
    "vertex = []\n",
    "types = []\n",
    "diameters=[]\n",
    "coords = []\n",
    "coordsK = hex_line[:-1]\n",
    "\n",
    "#Hexagon1\n",
    "p_hex1 = [0, 0.5*hex_rad, 0]\n",
    "coords.append(p_hex1)\n",
    "types.append('A')\n",
    "diameters.append(2*hex_rad)\n",
    "#Hexagon2\n",
    "p_hex2 = [hex_rad*np.sqrt(3)/2, -hex_rad ,0]\n",
    "coords.append(p_hex2)\n",
    "types.append('A')\n",
    "diameters.append(2*hex_rad)\n",
    "\n",
    "uc = hoomd.lattice.unitcell(N=2,\n",
    "                            a1=[hex_rad*np.sqrt(3), 0, 0],\n",
    "                            a2=[0, 3*hex_rad, 0],\n",
    "                            a3=[0,   0,   1],\n",
    "                            dimensions=2,\n",
    "                            position=coords,\n",
    "                            diameter=diameters,\n",
    "                            type_name=types);\n",
    "\n",
    "system = hoomd.init.create_lattice(unitcell=uc, n=[10, 10])\n",
    "mc = hoomd.hpmc.integrate.simple_polygon(d=0.01, a=0.01, seed=42)\n",
    "square_verts = coordsK\n",
    "mc.shape_param.set('A', vertices=square_verts)"
   ]
  },
  {
   "cell_type": "code",
   "execution_count": 7,
   "metadata": {},
   "outputs": [
    {
     "data": {
      "text/plain": [
       "24"
      ]
     },
     "execution_count": 7,
     "metadata": {},
     "output_type": "execute_result"
    }
   ],
   "source": [
    "len(coordsK)"
   ]
  },
  {
   "cell_type": "code",
   "execution_count": 8,
   "metadata": {},
   "outputs": [
    {
     "ename": "ValueError",
     "evalue": "vertices must be counterclockwise and convex",
     "output_type": "error",
     "traceback": [
      "\u001b[0;31m---------------------------------------------------------------------------\u001b[0m",
      "\u001b[0;31mValueError\u001b[0m                                Traceback (most recent call last)",
      "\u001b[0;32m<ipython-input-8-1c16828a98eb>\u001b[0m in \u001b[0;36m<module>\u001b[0;34m()\u001b[0m\n\u001b[0;32m----> 1\u001b[0;31m \u001b[0mex_render\u001b[0m\u001b[0;34m.\u001b[0m\u001b[0mrender_polygon_frame\u001b[0m\u001b[0;34m(\u001b[0m\u001b[0msystem\u001b[0m\u001b[0;34m.\u001b[0m\u001b[0mtake_snapshot\u001b[0m\u001b[0;34m(\u001b[0m\u001b[0mall\u001b[0m\u001b[0;34m=\u001b[0m\u001b[0mTrue\u001b[0m\u001b[0;34m)\u001b[0m\u001b[0;34m,\u001b[0m \u001b[0msquare_verts\u001b[0m\u001b[0;34m)\u001b[0m\u001b[0;34m\u001b[0m\u001b[0m\n\u001b[0m",
      "\u001b[0;32m/Users/user/Yandex.Disk.localized/CurrentWork/2017_HexMC/ex_render.pyc\u001b[0m in \u001b[0;36mrender_polygon_frame\u001b[0;34m(frame, verts, Ly)\u001b[0m\n\u001b[1;32m     88\u001b[0m     \u001b[0mscene\u001b[0m \u001b[0;34m=\u001b[0m \u001b[0mfresnel\u001b[0m\u001b[0;34m.\u001b[0m\u001b[0mScene\u001b[0m\u001b[0;34m(\u001b[0m\u001b[0mdevice\u001b[0m\u001b[0;34m)\u001b[0m\u001b[0;34m\u001b[0m\u001b[0m\n\u001b[1;32m     89\u001b[0m     \u001b[0mang\u001b[0m \u001b[0;34m=\u001b[0m \u001b[0mnumpy\u001b[0m\u001b[0;34m.\u001b[0m\u001b[0marctan2\u001b[0m\u001b[0;34m(\u001b[0m\u001b[0mframe\u001b[0m\u001b[0;34m.\u001b[0m\u001b[0mparticles\u001b[0m\u001b[0;34m.\u001b[0m\u001b[0morientation\u001b[0m\u001b[0;34m[\u001b[0m\u001b[0;34m:\u001b[0m\u001b[0;34m,\u001b[0m\u001b[0;36m3\u001b[0m\u001b[0;34m]\u001b[0m\u001b[0;34m,\u001b[0m \u001b[0mframe\u001b[0m\u001b[0;34m.\u001b[0m\u001b[0mparticles\u001b[0m\u001b[0;34m.\u001b[0m\u001b[0morientation\u001b[0m\u001b[0;34m[\u001b[0m\u001b[0;34m:\u001b[0m\u001b[0;34m,\u001b[0m\u001b[0;36m0\u001b[0m\u001b[0;34m]\u001b[0m\u001b[0;34m)\u001b[0m\u001b[0;34m*\u001b[0m\u001b[0;36m2\u001b[0m\u001b[0;34m\u001b[0m\u001b[0m\n\u001b[0;32m---> 90\u001b[0;31m     \u001b[0mg\u001b[0m \u001b[0;34m=\u001b[0m \u001b[0mfresnel\u001b[0m\u001b[0;34m.\u001b[0m\u001b[0mgeometry\u001b[0m\u001b[0;34m.\u001b[0m\u001b[0mPrism\u001b[0m\u001b[0;34m(\u001b[0m\u001b[0mscene\u001b[0m\u001b[0;34m,\u001b[0m \u001b[0mvertices\u001b[0m\u001b[0;34m=\u001b[0m\u001b[0mverts\u001b[0m\u001b[0;34m,\u001b[0m \u001b[0mposition\u001b[0m\u001b[0;34m=\u001b[0m\u001b[0mframe\u001b[0m\u001b[0;34m.\u001b[0m\u001b[0mparticles\u001b[0m\u001b[0;34m.\u001b[0m\u001b[0mposition\u001b[0m\u001b[0;34m[\u001b[0m\u001b[0;34m:\u001b[0m\u001b[0;34m,\u001b[0m\u001b[0;36m0\u001b[0m\u001b[0;34m:\u001b[0m\u001b[0;36m2\u001b[0m\u001b[0;34m]\u001b[0m\u001b[0;34m,\u001b[0m \u001b[0mangle\u001b[0m\u001b[0;34m=\u001b[0m\u001b[0mang\u001b[0m\u001b[0;34m,\u001b[0m \u001b[0mheight\u001b[0m\u001b[0;34m=\u001b[0m\u001b[0mnumpy\u001b[0m\u001b[0;34m.\u001b[0m\u001b[0mones\u001b[0m\u001b[0;34m(\u001b[0m\u001b[0mframe\u001b[0m\u001b[0;34m.\u001b[0m\u001b[0mparticles\u001b[0m\u001b[0;34m.\u001b[0m\u001b[0mN\u001b[0m\u001b[0;34m)\u001b[0m\u001b[0;34m*\u001b[0m\u001b[0;36m0.5\u001b[0m\u001b[0;34m)\u001b[0m\u001b[0;34m\u001b[0m\u001b[0m\n\u001b[0m\u001b[1;32m     91\u001b[0m     \u001b[0mg\u001b[0m\u001b[0;34m.\u001b[0m\u001b[0moutline_width\u001b[0m \u001b[0;34m=\u001b[0m \u001b[0;36m0.1\u001b[0m\u001b[0;34m\u001b[0m\u001b[0m\n\u001b[1;32m     92\u001b[0m     \u001b[0mg\u001b[0m\u001b[0;34m.\u001b[0m\u001b[0mmaterial\u001b[0m \u001b[0;34m=\u001b[0m \u001b[0mfresnel\u001b[0m\u001b[0;34m.\u001b[0m\u001b[0mmaterial\u001b[0m\u001b[0;34m.\u001b[0m\u001b[0mMaterial\u001b[0m\u001b[0;34m(\u001b[0m\u001b[0msolid\u001b[0m\u001b[0;34m=\u001b[0m\u001b[0;36m1.0\u001b[0m\u001b[0;34m,\u001b[0m \u001b[0mcolor\u001b[0m\u001b[0;34m=\u001b[0m\u001b[0mblue\u001b[0m\u001b[0;34m)\u001b[0m\u001b[0;34m\u001b[0m\u001b[0m\n",
      "\u001b[0;32m/Users/user/anaconda2/lib/python2.7/site-packages/fresnel/geometry.pyc\u001b[0m in \u001b[0;36m__init__\u001b[0;34m(self, scene, vertices, position, angle, height, color, N, material, outline_material, outline_width)\u001b[0m\n\u001b[1;32m    130\u001b[0m             \u001b[0mN\u001b[0m \u001b[0;34m=\u001b[0m \u001b[0mlen\u001b[0m\u001b[0;34m(\u001b[0m\u001b[0mposition\u001b[0m\u001b[0;34m)\u001b[0m\u001b[0;34m;\u001b[0m\u001b[0;34m\u001b[0m\u001b[0m\n\u001b[1;32m    131\u001b[0m \u001b[0;34m\u001b[0m\u001b[0m\n\u001b[0;32m--> 132\u001b[0;31m         \u001b[0mself\u001b[0m\u001b[0;34m.\u001b[0m\u001b[0m_geometry\u001b[0m \u001b[0;34m=\u001b[0m \u001b[0mscene\u001b[0m\u001b[0;34m.\u001b[0m\u001b[0mdevice\u001b[0m\u001b[0;34m.\u001b[0m\u001b[0mmodule\u001b[0m\u001b[0;34m.\u001b[0m\u001b[0mGeometryPrism\u001b[0m\u001b[0;34m(\u001b[0m\u001b[0mscene\u001b[0m\u001b[0;34m.\u001b[0m\u001b[0m_scene\u001b[0m\u001b[0;34m,\u001b[0m \u001b[0mvertices\u001b[0m\u001b[0;34m,\u001b[0m \u001b[0mN\u001b[0m\u001b[0;34m)\u001b[0m\u001b[0;34m;\u001b[0m\u001b[0;34m\u001b[0m\u001b[0m\n\u001b[0m\u001b[1;32m    133\u001b[0m         \u001b[0mself\u001b[0m\u001b[0;34m.\u001b[0m\u001b[0mmaterial\u001b[0m \u001b[0;34m=\u001b[0m \u001b[0mmaterial\u001b[0m\u001b[0;34m;\u001b[0m\u001b[0;34m\u001b[0m\u001b[0m\n\u001b[1;32m    134\u001b[0m         \u001b[0mself\u001b[0m\u001b[0;34m.\u001b[0m\u001b[0moutline_material\u001b[0m \u001b[0;34m=\u001b[0m \u001b[0moutline_material\u001b[0m\u001b[0;34m;\u001b[0m\u001b[0;34m\u001b[0m\u001b[0m\n",
      "\u001b[0;31mValueError\u001b[0m: vertices must be counterclockwise and convex"
     ]
    }
   ],
   "source": [
    "ex_render.render_polygon_frame(system.take_snapshot(all=True), square_verts)"
   ]
  },
  {
   "cell_type": "code",
   "execution_count": 9,
   "metadata": {},
   "outputs": [],
   "source": [
    "dump_name = \"6flake_.gsd\"\n",
    "d = hoomd.dump.gsd(dump_name, period=10, group=hoomd.group.all(), overwrite=True);"
   ]
  },
  {
   "cell_type": "code",
   "execution_count": 10,
   "metadata": {},
   "outputs": [
    {
     "name": "stdout",
     "output_type": "stream",
     "text": [
      "** starting run **\n",
      "Tim"
     ]
    },
    {
     "name": "stderr",
     "output_type": "stream",
     "text": [
      "*Warning*: Box size is too small or move size is too large for the minimum image convention.\n",
      "Testing 11 images per trial move, performance may slow.\n",
      "This message will not be repeated.\n"
     ]
    },
    {
     "name": "stdout",
     "output_type": "stream",
     "text": [
      "e 00:00:33 | Step 2 / 10 | TPS 0.121124 | ETA 00:01:06\n",
      "Time 00:00:50 | Step 4 / 10 | TPS 0.122851 | ETA 00:00:48\n",
      "Time 00:01:07 | Step 6 / 10 | TPS 0.116602 | ETA 00:00:34\n",
      "Time 00:01:23 | Step 8 / 10 | TPS 0.119502 | ETA 00:00:16\n",
      "Time 00:01:40 | Step 10 / 10 | TPS 0.117801 | ETA 00:00:00\n",
      "Average TPS: 0.119531\n",
      "---------\n",
      "notice(2): -- HPMC stats:\n",
      "notice(2): Average translate acceptance: 1\n",
      "notice(2): Average rotate acceptance:    1\n",
      "notice(2): Trial moves per second:        9561.74\n",
      "notice(2): Overlap checks per second:     265173\n",
      "notice(2): Overlap checks per trial move: 27.7327\n",
      "notice(2): Number of overlap errors:      0\n",
      "** run complete **\n"
     ]
    }
   ],
   "source": [
    "hoomd.run(10)"
   ]
  },
  {
   "cell_type": "code",
   "execution_count": null,
   "metadata": {
    "collapsed": true
   },
   "outputs": [],
   "source": []
  }
 ],
 "metadata": {
  "kernelspec": {
   "display_name": "Python 2",
   "language": "python",
   "name": "python2"
  },
  "language_info": {
   "codemirror_mode": {
    "name": "ipython",
    "version": 2
   },
   "file_extension": ".py",
   "mimetype": "text/x-python",
   "name": "python",
   "nbconvert_exporter": "python",
   "pygments_lexer": "ipython2",
   "version": "2.7.14"
  }
 },
 "nbformat": 4,
 "nbformat_minor": 2
}
